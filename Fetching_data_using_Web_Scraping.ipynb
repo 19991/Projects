{
  "nbformat": 4,
  "nbformat_minor": 0,
  "metadata": {
    "colab": {
      "provenance": [],
      "authorship_tag": "ABX9TyPxPqTZqrobPDbusdtmWeLj",
      "include_colab_link": true
    },
    "kernelspec": {
      "name": "python3",
      "display_name": "Python 3"
    },
    "language_info": {
      "name": "python"
    }
  },
  "cells": [
    {
      "cell_type": "markdown",
      "metadata": {
        "id": "view-in-github",
        "colab_type": "text"
      },
      "source": [
        "<a href=\"https://colab.research.google.com/github/19991/Projects/blob/main/Fetching_data_using_Web_Scraping.ipynb\" target=\"_parent\"><img src=\"https://colab.research.google.com/assets/colab-badge.svg\" alt=\"Open In Colab\"/></a>"
      ]
    },
    {
      "cell_type": "markdown",
      "source": [
        "## ***Web*** ***Scraping*** \n",
        "\n",
        "We are doing web scraping of IMDB Site for top movies and Saving those files to Excel."
      ],
      "metadata": {
        "id": "fzmlVOUPOXPM"
      }
    },
    {
      "cell_type": "code",
      "execution_count": 1,
      "metadata": {
        "id": "jgvf9zAsmvHI"
      },
      "outputs": [],
      "source": [
        "# Importing the required Library\n",
        "import pandas as pd\n",
        "import requests\n",
        "from bs4 import BeautifulSoup"
      ]
    },
    {
      "cell_type": "code",
      "source": [
        "# Getting all the data from the site through its link\n",
        "source = requests.get('https://www.imdb.com/chart/top/')\n",
        "\n",
        "# Checking the status of the link\n",
        "source.raise_for_status()"
      ],
      "metadata": {
        "id": "RQqaFKuo-M6Z"
      },
      "execution_count": 9,
      "outputs": []
    },
    {
      "cell_type": "code",
      "source": [
        "#Using BeautifulSoup to get data in html\n",
        "soup = BeautifulSoup(source.text,'html.parser')"
      ],
      "metadata": {
        "id": "4AT_ellw_WtV"
      },
      "execution_count": 11,
      "outputs": []
    },
    {
      "cell_type": "code",
      "source": [
        "# Acessing the tag 'tbody' with class 'lister-list' and finding all attributes name for 'tr'\n",
        "movies = soup.find('tbody', class_ = 'lister-list').find_all('tr')\n",
        "\n",
        "#Counting the length of the movies list\n",
        "len(movies)"
      ],
      "metadata": {
        "colab": {
          "base_uri": "https://localhost:8080/"
        },
        "id": "bgU2fRlWAoUt",
        "outputId": "eae05fca-8ffd-49c6-f078-7f16d09f564d"
      },
      "execution_count": 16,
      "outputs": [
        {
          "output_type": "execute_result",
          "data": {
            "text/plain": [
              "250"
            ]
          },
          "metadata": {},
          "execution_count": 16
        }
      ]
    },
    {
      "cell_type": "code",
      "source": [
        "# Iteriteate through each 'tr' tag to access each moive at a time\n",
        "\n",
        "for movie in movies:\n",
        "  name = movie.find('td', class_ = 'titleColumn').a.text\n",
        "  rank = movie.find('td', class_ = 'titleColumn').get_text(strip = True).split('.')[0]\n",
        "  year = movie.find('td', class_ = 'titleColumn').span.text.strip('()')\n",
        "  rating = movie.find('td', class_ = 'ratingColumn imdbRating').strong.text\n",
        "  print(rank, name, year, rating)\n"
      ],
      "metadata": {
        "id": "j8_EVCIREEy2"
      },
      "execution_count": null,
      "outputs": []
    },
    {
      "cell_type": "markdown",
      "source": [
        "## Creating Excel File to save above info"
      ],
      "metadata": {
        "id": "jRNJ4zdcLT-H"
      }
    },
    {
      "cell_type": "code",
      "source": [
        "# TO save excel file first we need to import openpyxl \n",
        "import openpyxl"
      ],
      "metadata": {
        "id": "PSbZ6vJEFjBk"
      },
      "execution_count": 34,
      "outputs": []
    },
    {
      "cell_type": "code",
      "source": [
        "# Printing the name of sheets of our workbook\n",
        "excel = openpyxl.Workbook()\n",
        "print(excel.sheetnames)"
      ],
      "metadata": {
        "colab": {
          "base_uri": "https://localhost:8080/"
        },
        "id": "940p-MDTKXRH",
        "outputId": "60da9ded-a1f2-4ebd-8c45-2252b7bad879"
      },
      "execution_count": 35,
      "outputs": [
        {
          "output_type": "stream",
          "name": "stdout",
          "text": [
            "['Sheet']\n"
          ]
        }
      ]
    },
    {
      "cell_type": "code",
      "source": [
        "sheet = excel.active"
      ],
      "metadata": {
        "id": "yEDpar5WK0Vu"
      },
      "execution_count": 37,
      "outputs": []
    },
    {
      "cell_type": "code",
      "source": [
        "# Renaming the Sheet Name and printing it \n",
        "sheet.title = 'Top Rated Movies'\n",
        "\n",
        "print(excel.sheetnames)"
      ],
      "metadata": {
        "colab": {
          "base_uri": "https://localhost:8080/"
        },
        "id": "Zn3t7FLFK6W6",
        "outputId": "c2a3d4f3-8026-4741-cae1-b70c5340d36e"
      },
      "execution_count": 38,
      "outputs": [
        {
          "output_type": "stream",
          "name": "stdout",
          "text": [
            "['Top Rated Movies']\n"
          ]
        }
      ]
    },
    {
      "cell_type": "code",
      "source": [
        "# Now Appending the Sheet And creating the column name as below\n",
        "\n",
        "sheet.append(['Movie Rank', 'Movie Name', 'Year Of Release', 'IMBD Rating'])\n",
        "\n",
        "\n",
        "# Loading the Info to Excel files\n",
        "\n",
        "for movie in movies:\n",
        "  name = movie.find('td', class_ = 'titleColumn').a.text\n",
        "  rank = movie.find('td', class_ = 'titleColumn').get_text(strip = True).split('.')[0]\n",
        "  year = movie.find('td', class_ = 'titleColumn').span.text.strip('()')\n",
        "  rating = movie.find('td', class_ = 'ratingColumn imdbRating').strong.text\n",
        "\n",
        "\n",
        "  # print(rank, name, year, rating)\n",
        "\n",
        "\n",
        "  ### Now Upadating all the values in the excel file \n",
        "  sheet.append([rank, name, year, rating])\n",
        "\n",
        "# Saving the Excel file with name IMBD Rating.xlsx\n",
        "excel.save('IMBD Ratings.xlsx')\n",
        "print('Done Appending')\n"
      ],
      "metadata": {
        "colab": {
          "base_uri": "https://localhost:8080/"
        },
        "id": "0nlTFDaXLLdZ",
        "outputId": "c1c893fb-b330-4b51-9fde-3bf0b3014f24"
      },
      "execution_count": 40,
      "outputs": [
        {
          "output_type": "stream",
          "name": "stdout",
          "text": [
            "Done Appending\n"
          ]
        }
      ]
    },
    {
      "cell_type": "markdown",
      "source": [
        "Above is the quick over view of how a web scriping is done.\n",
        "\n",
        "Thank you for staying till last"
      ],
      "metadata": {
        "id": "HtcSIQluRAEv"
      }
    },
    {
      "cell_type": "code",
      "source": [],
      "metadata": {
        "id": "m90Ithk2RGg7"
      },
      "execution_count": null,
      "outputs": []
    }
  ]
}